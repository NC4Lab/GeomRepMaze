{
 "cells": [
  {
   "cell_type": "code",
   "execution_count": 1,
   "id": "9d336f2a",
   "metadata": {},
   "outputs": [],
   "source": [
    "#import \n",
    "from models.vae import *\n",
    "import pickle\n",
    "import torch\n",
    "from torch import nn\n",
    "import numpy as np\n",
    "from matplotlib import pyplot as plt\n",
    "import os\n",
    "from data_generation.geom_utils import graph_distance\n",
    "from settings.custom_settings import CustomSettings\n",
    "from data_generation.generate_trajectory import Trajectory\n",
    "from mpl_toolkits.mplot3d import axes3d\n",
    "from training.train_ae import preprocessing\n",
    "import pandas as pd\n",
    "from matplotlib.path import Path\n",
    "import matplotlib.patches as patches\n",
    "os.environ['KMP_DUPLICATE_LIB_OK']='True'"
   ]
  },
  {
   "cell_type": "code",
   "execution_count": 2,
   "id": "f7e730bc",
   "metadata": {},
   "outputs": [],
   "source": [
    "LATENT_SPACE_DIM = 3 \n",
    "\n",
    "MODEL_PATH = \"./saved_models/vae_eucl_exp15_b10_l4\"\n",
    "EXP_NAME = \"experiment15\"  "
   ]
  },
  {
   "cell_type": "code",
   "execution_count": 3,
   "id": "12384c29",
   "metadata": {},
   "outputs": [],
   "source": [
    "#Load data and model\n",
    "#TODO use better data structure\n",
    "\n",
    "#GRAPH\n",
    "with open(MODEL_PATH + '/test_data', 'rb') as file:\n",
    "    X_test = pickle.load(file)\n",
    "with open(MODEL_PATH + '/train_data', 'rb') as file:\n",
    "    X_train = pickle.load(file)\n",
    "with open(MODEL_PATH + '/nonoise_test_data', 'rb') as file:\n",
    "    X_n_test = pickle.load(file)\n",
    "with open(MODEL_PATH + '/nonoise_train_data', 'rb') as file:\n",
    "    X_n_train = pickle.load(file)\n",
    "with open(MODEL_PATH + \"/test_data_traj\", 'rb') as file:\n",
    "    traj_test = pickle.load(file)\n",
    "with open(MODEL_PATH + \"/train_data_traj\", 'rb') as file:\n",
    "    traj_train = pickle.load(file)\n",
    "with open(MODEL_PATH + \"/test_maze_config\", 'rb') as file:\n",
    "    test_maze_config = pickle.load(file)\n",
    "with open(MODEL_PATH + \"/train_maze_config\", 'rb') as file:\n",
    "    train_maze_config = pickle.load(file)\n",
    "with open(MODEL_PATH + \"/train_edge\", 'rb') as file:\n",
    "    train_edge = pickle.load(file)\n",
    "with open(MODEL_PATH + \"/test_edge\", 'rb') as file:\n",
    "    test_edge = pickle.load(file)\n",
    "\n",
    "\n",
    "path = \"./data_generation/generated_data/\" + EXP_NAME\n",
    "with open(path + \"/maze.pkl\", 'rb') as file:\n",
    "    maze = pickle.load(file) #Maze is common to both\n",
    "with open(path + \"/trajectory.pkl\", 'rb') as file:\n",
    "    traj = pickle.load(file)\n",
    "with open(path + \"/placeCells.pkl\", 'rb') as file:\n",
    "    placeCells = pickle.load(file)\n",
    "\n"
   ]
  },
  {
   "cell_type": "code",
   "execution_count": 4,
   "id": "0b4e8850",
   "metadata": {},
   "outputs": [
    {
     "data": {
      "text/plain": [
       "VAE(\n",
       "  (encoder_layers): Sequential(\n",
       "    (0): Linear(in_features=100, out_features=64, bias=True)\n",
       "    (1): LeakyReLU(negative_slope=0.01)\n",
       "    (2): Linear(in_features=64, out_features=32, bias=True)\n",
       "    (3): LeakyReLU(negative_slope=0.01)\n",
       "    (4): Linear(in_features=32, out_features=16, bias=True)\n",
       "    (5): LeakyReLU(negative_slope=0.01)\n",
       "    (6): Linear(in_features=16, out_features=8, bias=True)\n",
       "    (7): LeakyReLU(negative_slope=0.01)\n",
       "  )\n",
       "  (linear1): Linear(in_features=8, out_features=3, bias=True)\n",
       "  (linear2): Linear(in_features=8, out_features=3, bias=True)\n",
       "  (decoder_layers): Sequential(\n",
       "    (0): Linear(in_features=3, out_features=8, bias=True)\n",
       "    (1): LeakyReLU(negative_slope=0.01)\n",
       "    (2): Linear(in_features=8, out_features=16, bias=True)\n",
       "    (3): LeakyReLU(negative_slope=0.01)\n",
       "    (4): Linear(in_features=16, out_features=32, bias=True)\n",
       "    (5): LeakyReLU(negative_slope=0.01)\n",
       "    (6): Linear(in_features=32, out_features=64, bias=True)\n",
       "    (7): LeakyReLU(negative_slope=0.01)\n",
       "    (8): Linear(in_features=64, out_features=100, bias=True)\n",
       "    (9): Sigmoid()\n",
       "  )\n",
       ")"
      ]
     },
     "execution_count": 4,
     "metadata": {},
     "output_type": "execute_result"
    }
   ],
   "source": [
    "#load model\n",
    "with open(MODEL_PATH + \"/model\", 'rb') as file:\n",
    "    model = pickle.load(file)\n",
    "with open(MODEL_PATH + \"/prep\", 'rb') as file:\n",
    "    prep = pickle.load(file)\n",
    "\n",
    "model.eval()"
   ]
  },
  {
   "cell_type": "code",
   "execution_count": 8,
   "id": "d9195a3e",
   "metadata": {},
   "outputs": [],
   "source": [
    "p = torch.Tensor([0, 0, 0]) #choose a poing in latent space\n",
    "S_gen = model.decoder(p).detach().numpy()\n"
   ]
  },
  {
   "cell_type": "code",
   "execution_count": 14,
   "id": "737a633f",
   "metadata": {},
   "outputs": [
    {
     "data": {
      "text/plain": [
       "[<matplotlib.lines.Line2D at 0x21deb6b9ea0>]"
      ]
     },
     "execution_count": 14,
     "metadata": {},
     "output_type": "execute_result"
    },
    {
     "data": {
      "image/png": "[encoded data removed]",
      "text/plain": [
       "<Figure size 640x480 with 1 Axes>"
      ]
     },
     "metadata": {},
     "output_type": "display_data"
    }
   ],
   "source": [
    "plt.plot(S_gen)"
   ]
  },
  {
   "cell_type": "code",
   "execution_count": 13,
   "id": "8045c36b",
   "metadata": {},
   "outputs": [],
   "source": [
    "S_gen = S_gen*prep.max"
   ]
  },
  {
   "cell_type": "code",
   "execution_count": 15,
   "id": "d1e49c6c",
   "metadata": {},
   "outputs": [
    {
     "ename": "ModuleNotFoundError",
     "evalue": "No module named 'sympy'",
     "output_type": "error",
     "traceback": [
      "\u001b[1;31m---------------------------------------------------------------------------\u001b[0m",
      "\u001b[1;31mModuleNotFoundError\u001b[0m                       Traceback (most recent call last)",
      "Input \u001b[1;32mIn [15]\u001b[0m, in \u001b[0;36m<cell line: 1>\u001b[1;34m()\u001b[0m\n\u001b[1;32m----> 1\u001b[0m \u001b[38;5;28;01mfrom\u001b[39;00m \u001b[38;5;21;01msympy\u001b[39;00m \u001b[38;5;28;01mimport\u001b[39;00m solve\n\u001b[0;32m      2\u001b[0m \u001b[38;5;28;01mfrom\u001b[39;00m \u001b[38;5;21;01msympy\u001b[39;00m\u001b[38;5;21;01m.\u001b[39;00m\u001b[38;5;21;01mabc\u001b[39;00m \u001b[38;5;28;01mimport\u001b[39;00m i, x\n\u001b[0;32m      3\u001b[0m solve(placeCells\u001b[38;5;241m.\u001b[39mfire(maze, \u001b[38;5;241m0\u001b[39m, x) \u001b[38;5;241m-\u001b[39m i, x)\n",
      "\u001b[1;31mModuleNotFoundError\u001b[0m: No module named 'sympy'"
     ]
    }
   ],
   "source": [
    "from sympy import solve\n",
    "from sympy.abc import i, x\n",
    "solve(placeCells.fire(maze, 0, x) - i, x)\n"
   ]
  }
 ],
 "metadata": {
  "kernelspec": {
   "display_name": "NC42",
   "language": "python",
   "name": "nc42"
  },
  "language_info": {
   "codemirror_mode": {
    "name": "ipython",
    "version": 3
   },
   "file_extension": ".py",
   "mimetype": "text/x-python",
   "name": "python",
   "nbconvert_exporter": "python",
   "pygments_lexer": "ipython3",
   "version": "3.10.4"
  }
 },
 "nbformat": 4,
 "nbformat_minor": 5
}
