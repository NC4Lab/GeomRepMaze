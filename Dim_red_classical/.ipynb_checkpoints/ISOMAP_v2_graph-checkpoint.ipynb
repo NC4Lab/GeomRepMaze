{
 "cells": [
  {
   "cell_type": "markdown",
   "id": "feb42ccb",
   "metadata": {},
   "source": [
    "# ISOMAP on graph dataset"
   ]
  },
  {
   "cell_type": "code",
   "execution_count": null,
   "id": "df5ad373",
   "metadata": {},
   "outputs": [],
   "source": [
    "#import \n",
    "import os, sys\n",
    "sys.path.insert(1, os.path.abspath(\"..\"))\n",
    "\n",
    "import math\n",
    "from sklearn.manifold import TSNE\n",
    "import pickle\n",
    "import torch\n",
    "from torch import nn\n",
    "import numpy as np\n",
    "from matplotlib import pyplot as plt\n",
    "#from autoencoder.plots import *\n",
    "import os\n",
    "from data_generation.utils.geom_utils import graph_distance\n",
    "from settings.custom_settings import CustomSettings\n",
    "from data_generation.generate_trajectory import Trajectory\n",
    "from copy import deepcopy\n",
    "from mpl_toolkits.mplot3d import axes3d\n",
    "from training.train_ae import preprocessing\n",
    "import pandas as pd\n",
    "from matplotlib.path import Path\n",
    "import matplotlib.patches as patches\n",
    "from sklearn.preprocessing import StandardScaler\n",
    "from sklearn import manifold\n",
    "\n",
    "\n",
    "os.environ['KMP_DUPLICATE_LIB_OK']='True'\n"
   ]
  },
  {
   "cell_type": "code",
   "execution_count": null,
   "id": "3dd71875",
   "metadata": {},
   "outputs": [],
   "source": [
    "EXP_NAME = \"experiment1\"  "
   ]
  },
  {
   "cell_type": "code",
   "execution_count": null,
   "id": "819d8d77",
   "metadata": {},
   "outputs": [],
   "source": [
    "path = \"../data_generation/generated_data/\" + EXP_NAME\n",
    "with open(path + \"/maze.pkl\", 'rb') as file:\n",
    "    maze = pickle.load(file) #Maze is common to both\n",
    "with open(path + \"/trajectory.pkl\", 'rb') as file:\n",
    "    traj = pickle.load(file)\n",
    "with open(path + \"/placeCells.pkl\", 'rb') as file:\n",
    "    placeCells = pickle.load(file)"
   ]
  },
  {
   "cell_type": "code",
   "execution_count": null,
   "id": "2a952fac",
   "metadata": {},
   "outputs": [],
   "source": [
    " #build useful idx arrays\n",
    "trajectory = np.array([traj.x_traj, traj.y_traj])\n",
    "long_traj_maze_config = np.empty(trajectory.shape[1])\n",
    "long_traj_maze_config[0:traj.traj_cut_idx[0]] = traj.corr_maze_config[0]\n",
    "for i in range(len(traj.corr_maze_config)):\n",
    "    cur_conf = traj.corr_maze_config[i]\n",
    "    long_traj_maze_config[traj.traj_cut_idx[i]:traj.traj_cut_idx[i + 1]] = cur_conf\n",
    "long_edge_pos = np.empty(trajectory.shape[1])\n",
    "long_edge_pos[0:traj.traj_cut_idx[0]] = traj.corr_maze_config[0]\n",
    "for i in range(len(traj.edge_position)):\n",
    "    # nb_goals = (len(maze.goals[cur_conf]))\n",
    "    long_edge_pos[traj.traj_cut_idx[i]:traj.traj_cut_idx[i + 1]] = traj.edge_position[i]"
   ]
  },
  {
   "cell_type": "code",
   "execution_count": null,
   "id": "db7aacaa",
   "metadata": {},
   "outputs": [],
   "source": [
    "FR = placeCells.firingRates"
   ]
  },
  {
   "cell_type": "code",
   "execution_count": null,
   "id": "97031a6a",
   "metadata": {},
   "outputs": [],
   "source": [
    "edge = long_edge_pos\n",
    "traj_2d= np.vstack((traj.x_traj, traj.y_traj)).T\n",
    "maze_config = long_traj_maze_config\n"
   ]
  },
  {
   "cell_type": "code",
   "execution_count": null,
   "id": "5f9acb9c",
   "metadata": {},
   "outputs": [],
   "source": [
    "with open('../rel_graph_distance/dgg_', 'rb') as file:\n",
    "    dg = pickle.load(file)"
   ]
  },
  {
   "cell_type": "markdown",
   "id": "ae30254c",
   "metadata": {},
   "source": [
    "# Useful Functions"
   ]
  },
  {
   "cell_type": "code",
   "execution_count": null,
   "id": "4939b73a",
   "metadata": {},
   "outputs": [],
   "source": [
    "def lighten_color(color, amount=0.5):\n",
    "    \"\"\"\n",
    "    Lightens the given color by multiplying (1-luminosity) by the given amount.\n",
    "    Input can be matplotlib color string, hex string, or RGB tuple.\n",
    "\n",
    "    Examples:\n",
    "    >> lighten_color('g', 0.3)\n",
    "    >> lighten_color('#F034A3', 0.6)\n",
    "    >> lighten_color((.3,.55,.1), 0.5)\n",
    "    \"\"\"\n",
    "    import matplotlib.colors as mc\n",
    "    import colorsys\n",
    "    try:\n",
    "        c = mc.cnames[color]\n",
    "    except:\n",
    "        c = color\n",
    "    c = colorsys.rgb_to_hls(*mc.to_rgb(c))\n",
    "    return colorsys.hls_to_rgb(c[0], 1 - amount * (1 - c[1]), c[2])\n",
    "#useful trajectory functions\n",
    "def extract_umap_space_trajectory(traj, goal, maze_config, pc, model):\n",
    "    idx = np.where((np.array(traj.edge_position) == goal) & (np.array(traj.corr_maze_config) == maze_config))[0][0]\n",
    "    neural_activity = pc.firingRates[traj.traj_cut_idx[idx]:traj.traj_cut_idx[idx+1], :]\n",
    "    return model.transform(neural_activity)   \n",
    "\n",
    "def extract_maze_trajectory(traj, goal, maze_config):\n",
    "    idx = np.where((np.array(traj.edge_position) == goal) & (np.array(traj.corr_maze_config) == maze_config))[0][1]\n",
    "    traj_x = traj.x_traj[traj.traj_cut_idx[idx]:traj.traj_cut_idx[idx+1]]\n",
    "    traj_y = traj.y_traj[traj.traj_cut_idx[idx]:traj.traj_cut_idx[idx+1]]\n",
    "    \n",
    "    return traj_x, traj_y\n",
    "\n",
    "#useful plotting functions\n",
    "def ax_plot_traj(ax, traj_x_array, traj_y_array, maze, config, traj_col, maze_color=\"Greens\", s_color=\"y\"):\n",
    "    #ax.title(title)\n",
    "    col = sns.color_palette(\"colorblind\")  \n",
    "    ax.plot(traj_x_array, traj_y_array, color = traj_col)\n",
    "    ax.plot(traj_x_array[0], traj_y_array[0], 'o', color = s_color)\n",
    "    ax.plot(traj_x_array[-1], traj_y_array[-1], 'v', color = s_color)\n",
    "    ax.set_xlim([0, maze.N])\n",
    "    ax.set_ylim([0, maze.N])\n",
    "    ax.grid()\n",
    "    \n",
    "        \n",
    "        \n",
    "def ax_plot_maze(ax, maze, config, plot_goals=[True, True, True], plot_home=True, maze_col = \"Greys\", ls = \"-\", hatch = None):\n",
    "    col = sns.color_palette(\"colorblind\")  \n",
    "    patch = patches.PathPatch(maze.trialOctoMaze[config], facecolor='None', lw=3, linestyle = ls, hatch=hatch)\n",
    "    ax.add_patch(patch)\n",
    "    ax.imshow(maze.trialMazeFlags[config, ::-1], cmap=maze_col, extent=[0, maze.N, 0, maze.N], alpha=0.1)\n",
    "    h = np.array(maze.nodeList[config][\"A\"]) + 0.5\n",
    "    if plot_home:\n",
    "        ax.scatter(h[0], h[1], s = 500, alpha = 1, marker = \"P\", color = col[0])\n",
    "    for k in range(3): #goals\n",
    "        gg = [\"C\", \"D\", \"E\"]\n",
    "        if plot_goals[k]:\n",
    "            g = np.array(maze.nodeList[config][gg[k]])+0.5\n",
    "            ax.scatter(g[0], g[1], s = 500, color = col[k+2], marker = \"8\", alpha= 0.5) "
   ]
  },
  {
   "cell_type": "markdown",
   "id": "bf6cf54b",
   "metadata": {},
   "source": [
    "# 2D ISOMAP"
   ]
  },
  {
   "cell_type": "code",
   "execution_count": null,
   "id": "45eec5e3",
   "metadata": {},
   "outputs": [],
   "source": [
    "model = manifold.Isomap(n_neighbors=10, n_components=2)"
   ]
  },
  {
   "cell_type": "code",
   "execution_count": null,
   "id": "7c8c129e",
   "metadata": {},
   "outputs": [],
   "source": [
    "scaler = StandardScaler().fit(FR)\n",
    "data = scaler.transform(FR)\n"
   ]
  },
  {
   "cell_type": "code",
   "execution_count": null,
   "id": "529f97d5",
   "metadata": {},
   "outputs": [],
   "source": [
    "df2 = pd.DataFrame(data)\n",
    "df2 = df2.sample(10000)\n",
    "model.fit(df2)\n",
    "embedding2 = model.transform(df2)"
   ]
  },
  {
   "cell_type": "code",
   "execution_count": null,
   "id": "3549e8cd",
   "metadata": {},
   "outputs": [],
   "source": [
    "col = np.zeros((3, df2.index.shape[0]))\n",
    "col[0, :] =  traj_2d[df2.index, 0]\n",
    "col[2, :] =  traj_2d[df2.index, 1]\n",
    "col = col/7"
   ]
  },
  {
   "cell_type": "code",
   "execution_count": null,
   "id": "e9ba5038",
   "metadata": {},
   "outputs": [],
   "source": [
    "s_i = np.arange(embedding2.shape[0])\n",
    "np.random.shuffle(s_i)\n",
    "plt.scatter(embedding2[s_i, 0], embedding2[s_i, 1], c=col[:, s_i].T, alpha = 0.5)"
   ]
  },
  {
   "cell_type": "code",
   "execution_count": null,
   "id": "2cc47165",
   "metadata": {},
   "outputs": [],
   "source": [
    "plt.title(\"Graph hypothesis - ISOMAP\")\n",
    "plt.scatter(embedding2[:, 0], embedding2[:, 1], c=dg[df2.index])\n",
    "plt.colorbar(label=\"Relative Graph distance from home\", orientation=\"vertical\")"
   ]
  },
  {
   "cell_type": "code",
   "execution_count": null,
   "id": "83bd9812",
   "metadata": {},
   "outputs": [],
   "source": [
    "\n",
    "plt.title(\"Graph hypothesis - ISOMAP\")\n",
    "\n",
    "for i in range(3):\n",
    "    idx = np.where(edge == i)\n",
    "    plt.scatter(embedding2[idx, 0], embedding2[idx, 1], label = \"goal %s\"%i)\n",
    "\n",
    "plt.legend()"
   ]
  },
  {
   "cell_type": "markdown",
   "id": "9be7774e",
   "metadata": {},
   "source": [
    "## Trajectories"
   ]
  },
  {
   "cell_type": "code",
   "execution_count": null,
   "id": "89bcfa4f",
   "metadata": {},
   "outputs": [],
   "source": [
    "maze_config = maze_config[df2.index]\n",
    "edge = edge[df2.index]"
   ]
  },
  {
   "cell_type": "code",
   "execution_count": null,
   "id": "e2403df8",
   "metadata": {},
   "outputs": [],
   "source": [
    "import seaborn as sns\n",
    "col = sns.color_palette(\"colorblind\")\n",
    "col"
   ]
  },
  {
   "cell_type": "code",
   "execution_count": null,
   "id": "48b3c8cb",
   "metadata": {},
   "outputs": [],
   "source": [
    "n_maze=3\n",
    "\n",
    "#Plot trajectories in latent space\n",
    "#EUCL\n",
    "plt.figure()\n",
    "fig, axs = plt.subplots(2, n_maze, figsize = (15, 10))\n",
    "\n",
    "for m in range(n_maze):\n",
    "    im = axs[0, m].scatter(embedding2[:, 0], embedding2[:, 1], color=\"grey\")\n",
    "\n",
    "\n",
    "for k in range(n_maze): #maze config\n",
    "        #idx = np.where(maze_config_e == k)\n",
    "    home = maze.nodeList[k][\"A\"]\n",
    "    idx = np.where(maze_config == k)\n",
    "    patch = patches.PathPatch(maze.trialOctoMaze[k], facecolor='None', lw=3)\n",
    "    axs[1, k].add_patch(patch)\n",
    "    \n",
    "  \n",
    "    \n",
    "    for g in range(3): #goal edge\n",
    "        traj_act_latent = extract_umap_space_trajectory(traj, goal=g, maze_config=k, pc=placeCells, model= model)\n",
    "        \n",
    "        #traj_act_latent= model.transform(traj)#traj_act_latent.detach().numpy())\n",
    "\n",
    "        axs[0, k].scatter(traj_act_latent[:, 0], traj_act_latent[:, 1], color=col[g+2], label = \"maze %s, goal %s\"%(k, g))\n",
    "        axs[0, k].plot(traj_act_latent[0, 0], traj_act_latent[0, 1], 'yo', markersize = 8)\n",
    "        axs[0, k].plot(traj_act_latent[-1, 0], traj_act_latent[-1, 1], 'yx',  markersize = 8)        \n",
    "        \n",
    "        \n",
    "        traj_x_array, traj_y_array = extract_maze_trajectory(traj, g, k)\n",
    "        ax_plot_traj(axs[1, k], traj_x_array, traj_y_array, maze, k, traj_col = col[g+2])"
   ]
  },
  {
   "cell_type": "code",
   "execution_count": null,
   "id": "82a111e9",
   "metadata": {},
   "outputs": [],
   "source": [
    "n_maze=10\n",
    "\n",
    "\n",
    "plt.figure()\n",
    "fig, axs = plt.subplots(2, 3, figsize = (15, 10))\n",
    "\n",
    "for g in range(3): #goal edge\n",
    "    idx_g = np.where(edge == g)\n",
    "    for m in range(3):        \n",
    "        im = axs[0, m].scatter(embedding2[idx_g, 0], embedding2[idx_g, 1], alpha = 1, color = lighten_color(col[g+2]))\n",
    "\n",
    "    for k in range(n_maze): #maze config\n",
    "        traj_act_latent = extract_umap_space_trajectory(traj, goal=g, maze_config=k, pc=placeCells, model= model)\n",
    "\n",
    "        axs[0, g].plot(traj_act_latent[:, 0], traj_act_latent[:, 1], label = \"maze %s, goal %s\"%(k, g), c=col[g+2])\n",
    "        axs[0, g].plot(traj_act_latent[0, 0], traj_act_latent[0, 1], 'yo', markersize = 8)\n",
    "        axs[0, g].plot(traj_act_latent[-1, 0], traj_act_latent[-1, 1], 'yx',  markersize = 8)\n",
    "\n",
    "        traj_x_array, traj_y_array = extract_maze_trajectory(traj, g, k)\n",
    "        ax_plot_traj(axs[1, g], traj_x_array, traj_y_array, maze, k, traj_col = col[g+2])#, maze_color = colors[k])\n",
    "\n",
    "        #patch = patches.PathPatch(maze.trialOctoMaze[k], facecolor='None', lw=3)\n",
    "        #axs[1, g].add_patch(patch)\n",
    "        ax_plot_maze(axs[1, g], maze, k)"
   ]
  },
  {
   "cell_type": "markdown",
   "id": "9191e04e",
   "metadata": {},
   "source": [
    "# 3D ISOMAP"
   ]
  },
  {
   "cell_type": "code",
   "execution_count": null,
   "id": "6ba3aa12",
   "metadata": {},
   "outputs": [],
   "source": [
    "import plotly.express as px\n",
    "import pandas as pd\n",
    "import plotly.graph_objects as go"
   ]
  },
  {
   "cell_type": "code",
   "execution_count": null,
   "id": "b61d463f",
   "metadata": {},
   "outputs": [],
   "source": [
    "model3D = manifold.Isomap(n_neighbors=10, n_components=3)"
   ]
  },
  {
   "cell_type": "code",
   "execution_count": null,
   "id": "1966d883",
   "metadata": {},
   "outputs": [],
   "source": [
    "df3 = pd.DataFrame(data)\n",
    "df3 = df3.sample(10000)\n",
    "model3D.fit(df3)"
   ]
  },
  {
   "cell_type": "code",
   "execution_count": null,
   "id": "53462c69",
   "metadata": {},
   "outputs": [],
   "source": [
    "embedding = model3D.transform(df3)"
   ]
  },
  {
   "cell_type": "code",
   "execution_count": null,
   "id": "7b74854b",
   "metadata": {},
   "outputs": [],
   "source": [
    "col = np.zeros((3, df3.index.shape[0]))\n",
    "col[0, :] =  traj_2d[df3.index, 0]\n",
    "col[2, :] =  traj_2d[df3.index, 1]\n",
    "\n",
    "col = col/7*256\n",
    "\n",
    "\n",
    "marker_dict = dict(size=3,\n",
    "        color= [f'rgb({col[0, i]}, {col[1, i]}, {col[2, i]})' for i in range(col.shape[1])],  # set color to an array/list of desired values\n",
    "        opacity=0.8)\n",
    "\n",
    "fig = go.Figure()\n",
    "fig.add_scatter3d(x=embedding[:, 0], y=embedding[:, 1], z=embedding[:, 2],mode='markers', marker=marker_dict) #, color = \"Euclidean distance from home\", title = \"Euclidean Hyp: latent space\" )\n",
    "\n",
    "fig.update_layout(\n",
    "    scene = dict(\n",
    "        xaxis = dict(nticks=4, range=[embedding[:, 0].min(),embedding[:, 0].max()],),\n",
    "                     yaxis = dict(nticks=4, range=[embedding[:, 1].min(),embedding[:, 1].max()],),\n",
    "                     zaxis = dict(nticks=4, range=[embedding[:, 2].min(),embedding[:, 2].max()],),),\n",
    "    width=700,\n",
    "    margin=dict(r=20, l=10, b=10, t=10), \n",
    "    title={\n",
    "        'text': \"Eucl\",\n",
    "        'y':0.9,\n",
    "        'x':0.5,\n",
    "        'xanchor': 'center',\n",
    "        'yanchor': 'top'})\n",
    "\n",
    "\n",
    "fig.show()\n",
    "\n",
    "\n",
    "#legend plot\n",
    "cp1 = np.linspace(0,1)\n",
    "cp2 = np.linspace(0,1)\n",
    "Cp1, Cp2 = np.meshgrid(cp1,cp2)\n",
    "C0 = np.zeros_like(Cp1)# make RGB image, p1 to red channel, p2 to blue channel\n",
    "Legend = np.dstack((Cp1, C0, Cp2))\n",
    "\n",
    "# parameters range between 0 and 7\n",
    "plt.figure(figsize=[1, 1])\n",
    "plt.imshow(Legend, origin=\"lower\", extent=[0,7,0,7])\n",
    "plt.xlabel(\"X\")\n",
    "plt.ylabel(\"Y\")\n",
    "plt.title(\"Euclidean Coordinates\", fontsize=10)"
   ]
  },
  {
   "cell_type": "code",
   "execution_count": null,
   "id": "9b54d5bd",
   "metadata": {},
   "outputs": [],
   "source": [
    "marker_dict = dict(size=3,\n",
    "        color= dg[df3.index],  # set color to an array/list of desired values\n",
    "        opacity=0.8)\n",
    "\n",
    "fig = go.Figure()\n",
    "fig.add_scatter3d(x=embedding[:, 0], y=embedding[:, 1], z=embedding[:, 2],mode='markers', marker=marker_dict) #, color = \"Euclidean distance from home\", title = \"Euclidean Hyp: latent space\" )\n",
    "\n",
    "fig.update_layout(\n",
    "    scene = dict(\n",
    "        xaxis = dict(nticks=4, range=[embedding[:, 0].min(),embedding[:, 0].max()],),\n",
    "                     yaxis = dict(nticks=4, range=[embedding[:, 1].min(),embedding[:, 1].max()],),\n",
    "                     zaxis = dict(nticks=4, range=[embedding[:, 2].min(),embedding[:, 2].max()],),),\n",
    "    width=700,\n",
    "    margin=dict(r=20, l=10, b=10, t=10), \n",
    "    title={\n",
    "        'text': \"Eucl\",\n",
    "        'y':0.9,\n",
    "        'x':0.5,\n",
    "        'xanchor': 'center',\n",
    "        'yanchor': 'top'})\n",
    "\n",
    "\n",
    "fig.show()"
   ]
  },
  {
   "cell_type": "code",
   "execution_count": null,
   "id": "d1afd632",
   "metadata": {},
   "outputs": [],
   "source": [
    "col = sns.color_palette(\"colorblind\")\n",
    "col"
   ]
  },
  {
   "cell_type": "code",
   "execution_count": null,
   "id": "ecefc427",
   "metadata": {},
   "outputs": [],
   "source": [
    "\n",
    "marker_dict = dict(size=3,\n",
    "        opacity=0.8)\n",
    "\n",
    "fig = go.Figure()\n",
    "fig.add_scatter3d(x=embedding[:, 0], y=embedding[:, 1], z=embedding[:, 2],mode='markers', marker=marker_dict) \n",
    "\n",
    "\n",
    "for g in range(3): #goal edge\n",
    "    idx_g = np.where(edge == g)\n",
    "    for k in range(3): #maze config\n",
    "        traj_act_latent = extract_umap_space_trajectory(traj, goal=g, maze_config=k, pc=placeCells, model= model3D)\n",
    "        c = (np.array(col[g+2])*256).astype(int)\n",
    "        marker_dict = dict(size=6,\n",
    "            opacity=1, color= [f'rgb({c[0]}, {c[1]}, {c[2]})' for i in range(traj_act_latent.shape[0])])\n",
    "        fig.add_scatter3d(x=traj_act_latent[:, 0], y=traj_act_latent[:, 1], z=traj_act_latent[:, 2],mode='markers', marker=marker_dict)\n",
    "\n",
    "\"\"\"fig.update_layout(\n",
    "    scene = dict(\n",
    "        xaxis = dict(nticks=4, range=[df3[0].min(),df3[0].max()],),\n",
    "                     yaxis = dict(nticks=4, range=[df3[1].min(),df3[1].max()],),\n",
    "                     zaxis = dict(nticks=4, range=[df3[2].min(),df3[2].max()],),),\n",
    "    width=700,\n",
    "    margin=dict(r=20, l=10, b=10, t=10), \n",
    "    title={\n",
    "        'text': \"Eucl\",\n",
    "        'y':0.9,\n",
    "        'x':0.5,\n",
    "        'xanchor': 'center',\n",
    "        'yanchor': 'top'})\n",
    "\"\"\"\n",
    "\n",
    "fig.show()"
   ]
  },
  {
   "cell_type": "code",
   "execution_count": null,
   "id": "a40f50e6",
   "metadata": {},
   "outputs": [],
   "source": []
  }
 ],
 "metadata": {
  "kernelspec": {
   "display_name": "NC42",
   "language": "python",
   "name": "nc42"
  },
  "language_info": {
   "codemirror_mode": {
    "name": "ipython",
    "version": 3
   },
   "file_extension": ".py",
   "mimetype": "text/x-python",
   "name": "python",
   "nbconvert_exporter": "python",
   "pygments_lexer": "ipython3",
   "version": "3.10.4"
  }
 },
 "nbformat": 4,
 "nbformat_minor": 5
}
