{
 "cells": [
  {
   "cell_type": "markdown",
   "id": "f9173beb",
   "metadata": {},
   "source": [
    "# Kernel PCA on Euclidean dataset"
   ]
  },
  {
   "cell_type": "code",
   "execution_count": 1,
   "id": "1cdea378",
   "metadata": {},
   "outputs": [],
   "source": [
    "#import \n",
    "import os, sys\n",
    "sys.path.insert(1, os.path.abspath(\"..\"))\n",
    "from sklearn.manifold import TSNE\n",
    "import pickle\n",
    "import torch\n",
    "from torch import nn\n",
    "import numpy as np\n",
    "from matplotlib import pyplot as plt\n",
    "from sklearn.decomposition import PCA, KernelPCA\n",
    "from copy import deepcopy\n",
    "from mpl_toolkits.mplot3d import axes3d\n",
    "import pandas as pd\n",
    "from matplotlib.path import Path\n",
    "import matplotlib.patches as patches\n",
    "os.environ['KMP_DUPLICATE_LIB_OK']='True'\n"
   ]
  },
  {
   "cell_type": "code",
   "execution_count": 2,
   "id": "40328650",
   "metadata": {},
   "outputs": [],
   "source": [
    "EXP_NAME = \"experiment0\"  "
   ]
  },
  {
   "cell_type": "code",
   "execution_count": 3,
   "id": "4b32b787",
   "metadata": {},
   "outputs": [],
   "source": [
    "path = \"../data_generation/generated_data/\" + EXP_NAME\n",
    "with open(path + \"/maze.pkl\", 'rb') as file:\n",
    "    maze = pickle.load(file) #Maze is common to both\n",
    "with open(path + \"/trajectory.pkl\", 'rb') as file:\n",
    "    traj = pickle.load(file)\n",
    "with open(path + \"/placeCells.pkl\", 'rb') as file:\n",
    "    placeCells = pickle.load(file)"
   ]
  },
  {
   "cell_type": "code",
   "execution_count": 4,
   "id": "d96304d8",
   "metadata": {},
   "outputs": [],
   "source": [
    " #build useful idx arrays\n",
    "trajectory = np.array([traj.x_traj, traj.y_traj])\n",
    "long_traj_maze_config = np.empty(trajectory.shape[1])\n",
    "long_traj_maze_config[0:traj.traj_cut_idx[0]] = traj.corr_maze_config[0]\n",
    "for i in range(len(traj.corr_maze_config)):\n",
    "    cur_conf = traj.corr_maze_config[i]\n",
    "    long_traj_maze_config[traj.traj_cut_idx[i]:traj.traj_cut_idx[i + 1]] = cur_conf\n",
    "long_edge_pos = np.empty(trajectory.shape[1])\n",
    "long_edge_pos[0:traj.traj_cut_idx[0]] = traj.corr_maze_config[0]\n",
    "for i in range(len(traj.edge_position)):\n",
    "    # nb_goals = (len(maze.goals[cur_conf]))\n",
    "    long_edge_pos[traj.traj_cut_idx[i]:traj.traj_cut_idx[i + 1]] = traj.edge_position[i]"
   ]
  },
  {
   "cell_type": "code",
   "execution_count": 5,
   "id": "e9fe8ecd",
   "metadata": {},
   "outputs": [],
   "source": [
    "FR = placeCells.firingRates\n",
    "edge = long_edge_pos\n",
    "traj_2d= np.vstack((traj.x_traj, traj.y_traj)).T\n",
    "maze_config = long_traj_maze_config\n"
   ]
  },
  {
   "cell_type": "code",
   "execution_count": 6,
   "id": "82b02fdd",
   "metadata": {},
   "outputs": [],
   "source": [
    "with open('../rel_graph_distance/dge_', 'rb') as file:\n",
    "    dg = pickle.load(file)"
   ]
  },
  {
   "cell_type": "code",
   "execution_count": null,
   "id": "87ed090f",
   "metadata": {},
   "outputs": [],
   "source": [
    "def lighten_color(color, amount=0.5):\n",
    "    \"\"\"\n",
    "    Lightens the given color by multiplying (1-luminosity) by the given amount.\n",
    "    Input can be matplotlib color string, hex string, or RGB tuple.\n",
    "\n",
    "    Examples:\n",
    "    >> lighten_color('g', 0.3)\n",
    "    >> lighten_color('#F034A3', 0.6)\n",
    "    >> lighten_color((.3,.55,.1), 0.5)\n",
    "    \"\"\"\n",
    "    import matplotlib.colors as mc\n",
    "    import colorsys\n",
    "    try:\n",
    "        c = mc.cnames[color]\n",
    "    except:\n",
    "        c = color\n",
    "    c = colorsys.rgb_to_hls(*mc.to_rgb(c))\n",
    "    return colorsys.hls_to_rgb(c[0], 1 - amount * (1 - c[1]), c[2])\n",
    "#useful trajectory functions\n",
    "def extract_kpca_space_trajectory(traj, goal, maze_config, pc, kpca):\n",
    "    idx = np.where((np.array(traj.edge_position) == goal) & (np.array(traj.corr_maze_config) == maze_config))[0][0]\n",
    "    neural_activity = pc.firingRates[traj.traj_cut_idx[idx]:traj.traj_cut_idx[idx+1], :]\n",
    "    return kpca.transform(neural_activity)   \n",
    "\n",
    "def extract_maze_trajectory(traj, goal, maze_config):\n",
    "    idx = np.where((np.array(traj.edge_position) == goal) & (np.array(traj.corr_maze_config) == maze_config))[0][1]\n",
    "    traj_x = traj.x_traj[traj.traj_cut_idx[idx]:traj.traj_cut_idx[idx+1]]\n",
    "    traj_y = traj.y_traj[traj.traj_cut_idx[idx]:traj.traj_cut_idx[idx+1]]\n",
    "    \n",
    "    return traj_x, traj_y\n",
    "\n",
    "#useful plotting functions\n",
    "def ax_plot_traj(ax, traj_x_array, traj_y_array, maze, config, traj_col, maze_color=\"Greens\", s_color=\"y\"):\n",
    "    #ax.title(title)\n",
    "    col = sns.color_palette(\"colorblind\")  \n",
    "    ax.plot(traj_x_array, traj_y_array, color = traj_col)\n",
    "    ax.plot(traj_x_array[0], traj_y_array[0], 'o', color = s_color)\n",
    "    ax.plot(traj_x_array[-1], traj_y_array[-1], 'v', color = s_color)\n",
    "    ax.set_xlim([0, maze.N])\n",
    "    ax.set_ylim([0, maze.N])\n",
    "    ax.grid()\n",
    "    \n",
    "        \n",
    "        \n",
    "def ax_plot_maze(ax, maze, config, plot_goals=[True, True, True], plot_home=True, maze_col = \"Greys\", ls = \"-\", hatch = None):\n",
    "    col = sns.color_palette(\"colorblind\")  \n",
    "    patch = patches.PathPatch(maze.trialOctoMaze[config], facecolor='None', lw=3, linestyle = ls, hatch=hatch)\n",
    "    ax.add_patch(patch)\n",
    "    ax.imshow(maze.trialMazeFlags[config, ::-1], cmap=maze_col, extent=[0, maze.N, 0, maze.N], alpha=0.1)\n",
    "    h = np.array(maze.nodeList[config][\"A\"]) + 0.5\n",
    "    if plot_home:\n",
    "        ax.scatter(h[0], h[1], s = 500, alpha = 1, marker = \"P\", color = col[0])\n",
    "    for k in range(3): #goals\n",
    "        gg = [\"C\", \"D\", \"E\"]\n",
    "        if plot_goals[k]:\n",
    "            g = np.array(maze.nodeList[config][gg[k]])+0.5\n",
    "            ax.scatter(g[0], g[1], s = 500, color = col[k+2], marker = \"8\", alpha= 0.5) "
   ]
  },
  {
   "cell_type": "markdown",
   "id": "9202d4b8",
   "metadata": {},
   "source": [
    "# 2D Kernel PCA"
   ]
  },
  {
   "cell_type": "code",
   "execution_count": null,
   "id": "dd546fec",
   "metadata": {},
   "outputs": [],
   "source": [
    "SAMPLE_SIZE=20000\n",
    "idx = np.random.choice(len(FR), SAMPLE_SIZE)\n",
    "Xe_small = FR[idx]\n",
    "\n",
    "kpca = KernelPCA(n_components=2)\n",
    "z = kpca.fit_transform(Xe_small)"
   ]
  },
  {
   "cell_type": "code",
   "execution_count": null,
   "id": "fa3938e7",
   "metadata": {},
   "outputs": [],
   "source": [
    "col = np.zeros((3, Xe_small.shape[0]))\n",
    "col[0, :] = traj_2d[idx, 0] #traj_train[:, 0]\n",
    "col[2, :] = traj_2d[idx, 1] #traj_train[:, 1]\n",
    "col = col/7"
   ]
  },
  {
   "cell_type": "code",
   "execution_count": null,
   "id": "e311babd",
   "metadata": {},
   "outputs": [],
   "source": [
    "s_i = np.arange(len(idx))\n",
    "np.random.shuffle(s_i)\n",
    "\n",
    "plt.scatter(z[s_i, 0], z[s_i, 1], c=col[:, s_i].T)"
   ]
  },
  {
   "cell_type": "code",
   "execution_count": null,
   "id": "9ad2191a",
   "metadata": {},
   "outputs": [],
   "source": [
    "plt.scatter(z[s_i, 0], z[s_i, 1], c=dg[s_i])"
   ]
  },
  {
   "cell_type": "code",
   "execution_count": null,
   "id": "dfbbe37f",
   "metadata": {},
   "outputs": [],
   "source": [
    "plt.scatter(z[:, 0], z[:, 1], c=edge[idx])"
   ]
  },
  {
   "cell_type": "markdown",
   "id": "429808ae",
   "metadata": {},
   "source": [
    "# Trajectories"
   ]
  },
  {
   "cell_type": "code",
   "execution_count": null,
   "id": "76dd42aa",
   "metadata": {},
   "outputs": [],
   "source": [
    "maze_config = maze_config[:SAMPLE_SIZE]\n",
    "edge = edge[:SAMPLE_SIZE]\n",
    "import seaborn as sns\n",
    "col = sns.color_palette(\"colorblind\")\n",
    "col"
   ]
  },
  {
   "cell_type": "code",
   "execution_count": null,
   "id": "20cec146",
   "metadata": {},
   "outputs": [],
   "source": [
    "n_maze=3\n",
    "\n",
    "#Plot trajectories in latent space\n",
    "#EUCL\n",
    "plt.figure()\n",
    "fig, axs = plt.subplots(2, n_maze, figsize = (15, 10))\n",
    "\n",
    "for m in range(n_maze):\n",
    "    im = axs[0, m].scatter(z[:, 0], z[:, 1], color=\"grey\")\n",
    "\n",
    "\n",
    "for k in range(n_maze): #maze config\n",
    "        #idx = np.where(maze_config_e == k)\n",
    "    home = maze.nodeList[k][\"A\"]\n",
    "    idx = np.where(maze_config == k)\n",
    "    patch = patches.PathPatch(maze.trialOctoMaze[k], facecolor='None', lw=3)\n",
    "    axs[1, k].add_patch(patch)\n",
    "    \n",
    "  \n",
    "    \n",
    "    for g in range(3): #goal edge\n",
    "        traj_act_latent = extract_kpca_space_trajectory(traj, goal=g, maze_config=k, pc=placeCells, kpca=kpca)\n",
    "        \n",
    "        #traj_act_latent= model.transform(traj)#traj_act_latent.detach().numpy())\n",
    "\n",
    "        axs[0, k].scatter(traj_act_latent[:, 0], traj_act_latent[:, 1], color=col[g+2], label = \"maze %s, goal %s\"%(k, g))\n",
    "        axs[0, k].plot(traj_act_latent[0, 0], traj_act_latent[0, 1], 'yo', markersize = 8)\n",
    "        axs[0, k].plot(traj_act_latent[-1, 0], traj_act_latent[-1, 1], 'yx',  markersize = 8)        \n",
    "        \n",
    "        \n",
    "        traj_x_array, traj_y_array = extract_maze_trajectory(traj, g, k)\n",
    "        ax_plot_traj(axs[1, k], traj_x_array, traj_y_array, maze, k, traj_col = col[g+2])"
   ]
  },
  {
   "cell_type": "code",
   "execution_count": null,
   "id": "622d68e6",
   "metadata": {},
   "outputs": [],
   "source": [
    "plt.figure()\n",
    "fig, axs = plt.subplots(2, 3, figsize = (15, 10))\n",
    "\n",
    "for g in range(3): #goal edge\n",
    "    idx_g = np.where(edge == g)\n",
    "    for m in range(3):        \n",
    "        im = axs[0, m].scatter(z[idx_g, 0], z[idx_g, 1], alpha = 1, color = lighten_color(col[g+2]))\n",
    "\n",
    "    for k in range(10): #maze config\n",
    "        traj_act_latent = extract_kpca_space_trajectory(traj, goal=g, maze_config=k, pc=placeCells, kpca= kpca)\n",
    "\n",
    "        axs[0, g].plot(traj_act_latent[:, 0], traj_act_latent[:, 1], label = \"maze %s, goal %s\"%(k, g), c=col[g+2])\n",
    "        axs[0, g].plot(traj_act_latent[0, 0], traj_act_latent[0, 1], 'yo', markersize = 8)\n",
    "        axs[0, g].plot(traj_act_latent[-1, 0], traj_act_latent[-1, 1], 'yx',  markersize = 8)\n",
    "\n",
    "        traj_x_array, traj_y_array = extract_maze_trajectory(traj, g, k)\n",
    "        ax_plot_traj(axs[1, g], traj_x_array, traj_y_array, maze, k, traj_col = col[g+2])#, maze_color = colors[k])\n",
    "\n",
    "        #patch = patches.PathPatch(maze.trialOctoMaze[k], facecolor='None', lw=3)\n",
    "        #axs[1, g].add_patch(patch)\n",
    "        ax_plot_maze(axs[1, g], maze, k)"
   ]
  },
  {
   "cell_type": "markdown",
   "id": "deab88fa",
   "metadata": {},
   "source": [
    "# 3D kernel PCA"
   ]
  },
  {
   "cell_type": "code",
   "execution_count": null,
   "id": "36113ad9",
   "metadata": {},
   "outputs": [],
   "source": [
    "import plotly.express as px\n",
    "import pandas as pd\n",
    "import plotly.graph_objects as go"
   ]
  },
  {
   "cell_type": "code",
   "execution_count": null,
   "id": "aa12175f",
   "metadata": {},
   "outputs": [],
   "source": [
    "SAMPLE_SIZE=20000\n",
    "idx = np.random.choice(len(FR), SAMPLE_SIZE)\n",
    "Xe_small = FR[idx]\n",
    "\n",
    "kpca = KernelPCA(n_components=3, kernel=\"rbf\")\n",
    "z = kpca.fit_transform(Xe_small)"
   ]
  },
  {
   "cell_type": "code",
   "execution_count": null,
   "id": "c945b620",
   "metadata": {},
   "outputs": [],
   "source": [
    "df = pd.DataFrame(z)\n",
    "df = df.rename(columns={'0': 'dim1', '1': 'dim2', \"2\":\"dim3\"})\n",
    "\n",
    "col = np.zeros((3, df.index.shape[0]))\n",
    "col[0, :] =  traj.x_traj[df.index]\n",
    "col[2, :] =  traj.y_traj[df.index]\n",
    "col = col/7*256\n",
    "\n",
    "\n",
    "marker_dict = dict(size=3,\n",
    "        color= [f'rgb({col[0, i]}, {col[1, i]}, {col[2, i]})' for i in range(col.shape[1])],  # set color to an array/list of desired values\n",
    "        opacity=0.8)\n",
    "\n",
    "fig = go.Figure()\n",
    "fig.add_scatter3d(x=df[0], y=df[1], z=df[2],mode='markers', marker=marker_dict) #, color = \"Euclidean distance from home\", title = \"Euclidean Hyp: latent space\" )\n",
    "\n",
    "fig.update_layout(\n",
    "    scene = dict(\n",
    "        xaxis = dict(nticks=4, range=[df[0].min(),df[0].max()],),\n",
    "                     yaxis = dict(nticks=4, range=[df[1].min(),df[1].max()],),\n",
    "                     zaxis = dict(nticks=4, range=[df[2].min(),df[2].max()],),),\n",
    "    width=700,\n",
    "    margin=dict(r=20, l=10, b=10, t=10), \n",
    "    title={\n",
    "        'text': \"Eucl\",\n",
    "        'y':0.9,\n",
    "        'x':0.5,\n",
    "        'xanchor': 'center',\n",
    "        'yanchor': 'top'})\n",
    "\n",
    "\n",
    "fig.show()\n",
    "\n",
    "\n",
    "#legend plot\n",
    "cp1 = np.linspace(0,1)\n",
    "cp2 = np.linspace(0,1)\n",
    "Cp1, Cp2 = np.meshgrid(cp1,cp2)\n",
    "C0 = np.zeros_like(Cp1)# make RGB image, p1 to red channel, p2 to blue channel\n",
    "Legend = np.dstack((Cp1, C0, Cp2))\n",
    "\n",
    "# parameters range between 0 and 7\n",
    "plt.figure(figsize=[1, 1])\n",
    "plt.imshow(Legend, origin=\"lower\", extent=[0,7,0,7])\n",
    "plt.xlabel(\"X\")\n",
    "plt.ylabel(\"Y\")\n",
    "plt.title(\"Euclidean Coordinates\", fontsize=10)"
   ]
  },
  {
   "cell_type": "code",
   "execution_count": null,
   "id": "5cfd8585",
   "metadata": {},
   "outputs": [],
   "source": [
    "df = pd.DataFrame(z)\n",
    "df = df.rename(columns={'0': 'dim1', '1': 'dim2', \"2\":\"dim3\"})\n",
    "\n",
    "\n",
    "\n",
    "marker_dict = dict(size=3,\n",
    "        color= dg[df.index],  # set color to an array/list of desired values\n",
    "        opacity=0.8)\n",
    "\n",
    "fig = go.Figure()\n",
    "fig.add_scatter3d(x=df[0], y=df[1], z=df[2],mode='markers', marker=marker_dict) #, color = \"Euclidean distance from home\", title = \"Euclidean Hyp: latent space\" )\n",
    "\n",
    "fig.update_layout(\n",
    "    scene = dict(\n",
    "        xaxis = dict(nticks=4, range=[df[0].min(),df[0].max()],),\n",
    "                     yaxis = dict(nticks=4, range=[df[1].min(),df[1].max()],),\n",
    "                     zaxis = dict(nticks=4, range=[df[2].min(),df[2].max()],),),\n",
    "    width=700,\n",
    "    margin=dict(r=20, l=10, b=10, t=10), \n",
    "    title={\n",
    "        'text': \"Eucl\",\n",
    "        'y':0.9,\n",
    "        'x':0.5,\n",
    "        'xanchor': 'center',\n",
    "        'yanchor': 'top'})\n",
    "\n",
    "\n",
    "fig.show()"
   ]
  },
  {
   "cell_type": "code",
   "execution_count": null,
   "id": "947ef773",
   "metadata": {},
   "outputs": [],
   "source": [
    "df = pd.DataFrame(z)\n",
    "df = df.rename(columns={'0': 'dim1', '1': 'dim2', \"2\":\"dim3\"})\n",
    "\n",
    "\n",
    "\n",
    "marker_dict = dict(size=3,\n",
    "        color= edge[df.index],  # set color to an array/list of desired values\n",
    "        opacity=0.8)\n",
    "\n",
    "fig = go.Figure()\n",
    "fig.add_scatter3d(x=df[0], y=df[1], z=df[2],mode='markers', marker=marker_dict) #, color = \"Euclidean distance from home\", title = \"Euclidean Hyp: latent space\" )\n",
    "\n",
    "fig.update_layout(\n",
    "    scene = dict(\n",
    "        xaxis = dict(nticks=4, range=[df[0].min(),df[0].max()],),\n",
    "                     yaxis = dict(nticks=4, range=[df[1].min(),df[1].max()],),\n",
    "                     zaxis = dict(nticks=4, range=[df[2].min(),df[2].max()],),),\n",
    "    width=700,\n",
    "    margin=dict(r=20, l=10, b=10, t=10), \n",
    "    title={\n",
    "        'text': \"Eucl\",\n",
    "        'y':0.9,\n",
    "        'x':0.5,\n",
    "        'xanchor': 'center',\n",
    "        'yanchor': 'top'})\n",
    "\n",
    "\n",
    "fig.show()"
   ]
  },
  {
   "cell_type": "code",
   "execution_count": null,
   "id": "2629086b",
   "metadata": {},
   "outputs": [],
   "source": []
  },
  {
   "cell_type": "code",
   "execution_count": null,
   "id": "e2cd230f",
   "metadata": {},
   "outputs": [],
   "source": []
  }
 ],
 "metadata": {
  "kernelspec": {
   "display_name": "NC42",
   "language": "python",
   "name": "nc42"
  },
  "language_info": {
   "codemirror_mode": {
    "name": "ipython",
    "version": 3
   },
   "file_extension": ".py",
   "mimetype": "text/x-python",
   "name": "python",
   "nbconvert_exporter": "python",
   "pygments_lexer": "ipython3",
   "version": "3.10.4"
  }
 },
 "nbformat": 4,
 "nbformat_minor": 5
}
