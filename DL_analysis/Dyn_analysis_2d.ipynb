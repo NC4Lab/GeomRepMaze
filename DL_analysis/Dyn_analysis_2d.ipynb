{
 "cells": [
  {
   "cell_type": "code",
   "execution_count": 1,
   "id": "5753da33",
   "metadata": {},
   "outputs": [],
   "source": [
    "#import \n",
    "from models.DynamicalAE import *\n",
    "import pickle\n",
    "import torch\n",
    "from torch import nn\n",
    "import numpy as np\n",
    "from matplotlib import pyplot as plt\n",
    "import os\n",
    "#from data_generation.geom_utils import graph_distance\n",
    "from settings.custom_settings import CustomSettings\n",
    "from data_generation.generate_trajectory import Trajectory\n",
    "from copy import deepcopy\n",
    "from mpl_toolkits.mplot3d import axes3d\n",
    "from training.train_ae import preprocessing\n",
    "import pandas as pd\n",
    "from matplotlib.path import Path\n",
    "import matplotlib.patches as patches\n",
    "os.environ['KMP_DUPLICATE_LIB_OK']='True'"
   ]
  },
  {
   "cell_type": "code",
   "execution_count": 2,
   "id": "75c02e0f",
   "metadata": {},
   "outputs": [],
   "source": [
    "LATENT_SPACE_DIM = 2\n",
    "\n",
    "GRAPH_MODEL_PATH = \"./saved_models/dynAE_graph_nonoise_2D\" #5mazes_Graph_3dAE_excluding1\n",
    "GRAPH_EXP_NAME = \"experiment14\"  "
   ]
  },
  {
   "cell_type": "code",
   "execution_count": 3,
   "id": "a1757d12",
   "metadata": {},
   "outputs": [
    {
     "ename": "FileNotFoundError",
     "evalue": "[Errno 2] No such file or directory: './saved_models/dynAE_graph_nonoise_2D/test_data'",
     "output_type": "error",
     "traceback": [
      "\u001b[1;31m---------------------------------------------------------------------------\u001b[0m",
      "\u001b[1;31mFileNotFoundError\u001b[0m                         Traceback (most recent call last)",
      "Input \u001b[1;32mIn [3]\u001b[0m, in \u001b[0;36m<cell line: 5>\u001b[1;34m()\u001b[0m\n\u001b[0;32m      1\u001b[0m \u001b[38;5;66;03m#Load data and model\u001b[39;00m\n\u001b[0;32m      2\u001b[0m \n\u001b[0;32m      3\u001b[0m \n\u001b[0;32m      4\u001b[0m \u001b[38;5;66;03m#GRAPH\u001b[39;00m\n\u001b[1;32m----> 5\u001b[0m \u001b[38;5;28;01mwith\u001b[39;00m \u001b[38;5;28;43mopen\u001b[39;49m\u001b[43m(\u001b[49m\u001b[43mGRAPH_MODEL_PATH\u001b[49m\u001b[43m \u001b[49m\u001b[38;5;241;43m+\u001b[39;49m\u001b[43m \u001b[49m\u001b[38;5;124;43m'\u001b[39;49m\u001b[38;5;124;43m/test_data\u001b[39;49m\u001b[38;5;124;43m'\u001b[39;49m\u001b[43m,\u001b[49m\u001b[43m \u001b[49m\u001b[38;5;124;43m'\u001b[39;49m\u001b[38;5;124;43mrb\u001b[39;49m\u001b[38;5;124;43m'\u001b[39;49m\u001b[43m)\u001b[49m \u001b[38;5;28;01mas\u001b[39;00m file:\n\u001b[0;32m      6\u001b[0m     X_test_g \u001b[38;5;241m=\u001b[39m pickle\u001b[38;5;241m.\u001b[39mload(file)\n\u001b[0;32m      7\u001b[0m \u001b[38;5;28;01mwith\u001b[39;00m \u001b[38;5;28mopen\u001b[39m(GRAPH_MODEL_PATH \u001b[38;5;241m+\u001b[39m \u001b[38;5;124m'\u001b[39m\u001b[38;5;124m/train_data\u001b[39m\u001b[38;5;124m'\u001b[39m, \u001b[38;5;124m'\u001b[39m\u001b[38;5;124mrb\u001b[39m\u001b[38;5;124m'\u001b[39m) \u001b[38;5;28;01mas\u001b[39;00m file:\n",
      "\u001b[1;31mFileNotFoundError\u001b[0m: [Errno 2] No such file or directory: './saved_models/dynAE_graph_nonoise_2D/test_data'"
     ]
    }
   ],
   "source": [
    "#Load data and model\n",
    "\n",
    "\n",
    "#GRAPH\n",
    "with open(GRAPH_MODEL_PATH + '/test_data', 'rb') as file:\n",
    "    X_test_g = pickle.load(file)\n",
    "with open(GRAPH_MODEL_PATH + '/train_data', 'rb') as file:\n",
    "    X_train_g = pickle.load(file)\n",
    "with open(GRAPH_MODEL_PATH + '/nonoise_test_data', 'rb') as file:\n",
    "    X_n_test_g = pickle.load(file)\n",
    "with open(GRAPH_MODEL_PATH + '/nonoise_train_data', 'rb') as file:\n",
    "    X_n_train_g = pickle.load(file)\n",
    "with open(GRAPH_MODEL_PATH + \"/test_data_traj\", 'rb') as file:\n",
    "    traj_test_g = pickle.load(file)\n",
    "with open(GRAPH_MODEL_PATH + \"/train_data_traj\", 'rb') as file:\n",
    "    traj_train_g = pickle.load(file)\n",
    "with open(GRAPH_MODEL_PATH + \"/test_maze_config\", 'rb') as file:\n",
    "    test_maze_config_g = pickle.load(file)\n",
    "with open(GRAPH_MODEL_PATH + \"/train_maze_config\", 'rb') as file:\n",
    "    train_maze_config_g = pickle.load(file)\n",
    "with open(GRAPH_MODEL_PATH + \"/train_edge\", 'rb') as file:\n",
    "    train_edge_g = pickle.load(file)\n",
    "with open(GRAPH_MODEL_PATH + \"/test_edge\", 'rb') as file:\n",
    "    test_edge_g = pickle.load(file)\n",
    "with open(GRAPH_MODEL_PATH + \"/v_train\", 'rb') as file:\n",
    "    v_train_g = pickle.load(file)\n",
    "with open(GRAPH_MODEL_PATH + \"/v_test\", 'rb') as file:\n",
    "    v_test_g = pickle.load(file)\n",
    "with open(GRAPH_MODEL_PATH + \"/loss_logs\", 'rb') as file:\n",
    "    loss_logs_g = pickle.load(file)\n",
    "\n",
    "path = \"./data_generation/generated_data/\" + GRAPH_EXP_NAME\n",
    "with open(path + \"/maze.pkl\", 'rb') as file:\n",
    "    maze = pickle.load(file) #Maze is common to both\n",
    "with open(path + \"/trajectory.pkl\", 'rb') as file:\n",
    "    traj_g = pickle.load(file)\n",
    "with open(path + \"/placeCells.pkl\", 'rb') as file:\n",
    "    placeCells_g = pickle.load(file)"
   ]
  },
  {
   "cell_type": "code",
   "execution_count": null,
   "id": "4333480b",
   "metadata": {},
   "outputs": [],
   "source": [
    "#load model\n",
    "with open(GRAPH_MODEL_PATH + \"/model\", 'rb') as file:\n",
    "    GM = pickle.load(file)\n",
    "\n",
    "GM.eval()\n",
    "\n",
    "LS_test_g = GM.encoder(X_test_g[:, 0, :])\n",
    "LS_next_test_g = GM.f(LS_test_g, test_edge_g[:, 0, :], v_test_g[:, 0, :])\n",
    "LS_rec = GM.decoder(LS_next_test_g)\n",
    "\n",
    "LS_train_g = GM.encoder(X_train_g[:, 0, :])\n",
    "LS_next_train_g = GM.f(LS_train_g, train_edge_g[:, 0, :], v_train_g[:, 0, :])\n",
    "LS_rec_train = GM.decoder(LS_next_train_g)\n",
    "#rec_test_g = graph_model.decoder(latent_space_test_g)\n",
    "#rec_train_g = graph_model.decoder(latent_space_train_g)\n",
    "\n",
    "LS_rec = LS_rec.detach().numpy()\n",
    "LS_rec_train = LS_rec_train.detach().numpy()"
   ]
  },
  {
   "cell_type": "code",
   "execution_count": null,
   "id": "63a5992c",
   "metadata": {},
   "outputs": [],
   "source": [
    "plt.plot(GM.lossLogs)\n"
   ]
  },
  {
   "cell_type": "code",
   "execution_count": null,
   "id": "b05e6de9",
   "metadata": {},
   "outputs": [],
   "source": [
    "idx = np.argsort(LS_rec[:, 0])\n",
    "L=np.arange(len(idx))\n",
    "plt.scatter(L, X_test_g.detach().numpy()[idx, 1, 0])\n",
    "plt.scatter(L, LS_rec[idx, 0])"
   ]
  },
  {
   "cell_type": "code",
   "execution_count": null,
   "id": "e3c0255d",
   "metadata": {},
   "outputs": [],
   "source": [
    "idx = np.argsort(LS_rec_train[:, 0])\n",
    "L=np.arange(len(idx))\n",
    "plt.scatter(L, X_train_g[idx, 1, 0])\n",
    "plt.scatter(L, LS_rec_train[idx, 0])"
   ]
  },
  {
   "cell_type": "code",
   "execution_count": null,
   "id": "7668d458",
   "metadata": {},
   "outputs": [],
   "source": [
    "import plotly.express as px\n",
    "import pandas as pd\n",
    "import plotly.graph_objects as go\n",
    "\n",
    "\n",
    "fig = go.Figure()\n",
    "df = pd.DataFrame(LS_train_g.detach().numpy())\n",
    "fig.add_scatter(x=df[0], y=df[1],mode='markers', name=\"X(n)\") #, color = \"Euclidean distance from home\", title = \"Euclidean Hyp: latent space\" )\n",
    "df = pd.DataFrame(LS_next_train_g.detach().numpy())\n",
    "fig.add_scatter(x=df[0], y=df[1],mode='markers', name=\"X(n+1)\") #, color = \"Euclidean distance from home\", title = \"Euclidean Hyp: latent space\" )\n",
    "\n",
    "fig.show()"
   ]
  },
  {
   "cell_type": "code",
   "execution_count": null,
   "id": "b1b0e043",
   "metadata": {},
   "outputs": [],
   "source": [
    "#TRaj towards goal 0\n",
    "\n",
    "\n",
    "#X(n)\n",
    "idx = np.where(train_edge_g[:, 0, :] == 2)[1]\n",
    "df = pd.DataFrame(LS_train_g.detach().numpy()[idx, :])\n",
    "fig = go.Figure()\n",
    "#df = df.sample(n=100000)\n",
    "fig.add_scatter(x=df[0], y=df[1],mode='markers', name=\"X(n)\") #, color = \"Euclidean distance from home\", title = \"Euclidean Hyp: latent space\" )\n",
    "\n",
    "LS_prev = LS_train_g[idx, :]\n",
    "for i in range(5): \n",
    "    #X(n+1)\n",
    "    LS_next = GM.f(LS_prev, train_edge_g[:, 0, idx], v_train_g[:, 0, idx])\n",
    "    df = pd.DataFrame(LS_next.detach().numpy())\n",
    "    fig.add_scatter(x=df[0], y=df[1],mode='markers', name=\"X(n+%s)\"%(i+1)) #, color = \"Euclidean distance from home\", title = \"Euclidean Hyp: latent space\" )\n",
    "    LS_prev = LS_next\n",
    "\n",
    "\n",
    "fig.show()"
   ]
  },
  {
   "cell_type": "code",
   "execution_count": null,
   "id": "77c30e09",
   "metadata": {},
   "outputs": [],
   "source": [
    "#Plot home goal/ graph distance\n",
    "with open(\"./dgg_dyn2D\", 'rb') as file:\n",
    "    dgg_dyn2D = pickle.load(file)\n",
    "    \n",
    "h = np.array(maze.homes) + 0.5\n",
    "h_fr = np.empty((maze.nb_of_trials, 100))\n",
    "for i in range(maze.nb_of_trials):\n",
    "    h_fr[i, :] = preprocessing(placeCells_g.fire(maze, i, np.array([h[i]]).T), placeCells_g)\n",
    "h_latent = GM.encoder(torch.Tensor(h_fr)).detach().numpy()\n",
    "    \n",
    "df = pd.DataFrame(LS_train_g.detach().numpy())\n",
    "fig = go.Figure()\n",
    "marker_dict = dict(size=3,\n",
    "    color=dgg_dyn2D,  # set color to an array/list of desired values\n",
    "    colorscale='Reds')\n",
    "fig.add_scatter(x=df[0], y=df[1],mode='markers', marker=marker_dict,  name=\"X(n)\") #, color = \"Euclidean distance from home\", title = \"Euclidean Hyp: latent space\" )\n",
    "marker_dict = dict(size=10)\n",
    "fig.add_scatter(x=h_latent[:, 0], y=h_latent[:, 1],  marker_symbol=\"cross\",mode='markers',marker=marker_dict,  name=\"HOMES\") #, color = \"Euclidean distance from home\", title = \"Euclidean Hyp: latent space\" )\n",
    "\n",
    "\n",
    "col_list = [\"Blues\", \"Greens\"]\n",
    "\n",
    "LS_prev = LS_train_g\n",
    "h_prev = torch.Tensor(h_latent)\n",
    "for i in range(1): \n",
    "    #X(n+1)\n",
    "    marker_dict = dict(size=3,\n",
    "    color=dgg_dyn2D,  # set color to an array/list of desired values\n",
    "    colorscale = col_list[i])\n",
    "    \n",
    "    LS_next = GM.f(LS_prev, train_edge_g[:, 0, :], v_train_g[:, 0, :])\n",
    "    h_next =  GM.f(h_prev, torch.Tensor([np.arange(maze.nb_of_trials)]), torch.Tensor(np.ones((1, maze.nb_of_trials))*0.1)).detach().numpy()\n",
    "    df = pd.DataFrame(LS_next.detach().numpy())\n",
    "    fig.add_scatter(x=df[0], y=df[1],mode='markers', marker=marker_dict, name=\"X(n+%s)\"%(i+1)) #, color = \"Euclidean distance from home\", title = \"Euclidean Hyp: latent space\" )\n",
    "    marker_dict = dict(size=10)\n",
    "    fig.add_scatter(x=h_next[:, 0], y=h_next[:, 1],  marker_symbol=\"cross\",mode='markers',marker=marker_dict,  name=\"HOMES\") #, color = \"Euclidean distance from home\", title = \"Euclidean Hyp: latent space\" )\n",
    "\n",
    "    LS_prev = LS_next   \n",
    "    h_prev = torch.Tensor(h_next)\n",
    "    \n",
    "\n",
    "fig.show()"
   ]
  },
  {
   "cell_type": "code",
   "execution_count": null,
   "id": "802a739f",
   "metadata": {},
   "outputs": [],
   "source": [
    "maze.nb_of_trials"
   ]
  },
  {
   "cell_type": "code",
   "execution_count": null,
   "id": "5687ace2",
   "metadata": {},
   "outputs": [],
   "source": [
    "#try 2d\n",
    "#simulate 2d trajectory "
   ]
  },
  {
   "cell_type": "code",
   "execution_count": null,
   "id": "b6f9e1c9",
   "metadata": {},
   "outputs": [],
   "source": [
    "train_edge_g[:, 0, :]"
   ]
  },
  {
   "cell_type": "code",
   "execution_count": null,
   "id": "44324173",
   "metadata": {},
   "outputs": [],
   "source": []
  }
 ],
 "metadata": {
  "kernelspec": {
   "display_name": "NC42",
   "language": "python",
   "name": "nc42"
  },
  "language_info": {
   "codemirror_mode": {
    "name": "ipython",
    "version": 3
   },
   "file_extension": ".py",
   "mimetype": "text/x-python",
   "name": "python",
   "nbconvert_exporter": "python",
   "pygments_lexer": "ipython3",
   "version": "3.10.4"
  }
 },
 "nbformat": 4,
 "nbformat_minor": 5
}
