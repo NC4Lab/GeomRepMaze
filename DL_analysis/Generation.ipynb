{
 "cells": [
  {
   "cell_type": "code",
   "execution_count": 101,
   "id": "5430117c",
   "metadata": {},
   "outputs": [],
   "source": [
    "#import \n",
    "from models.vae import *\n",
    "import pickle\n",
    "import torch\n",
    "from torch import nn\n",
    "import numpy as np\n",
    "from matplotlib import pyplot as plt\n",
    "import os\n",
    "from data_generation.geom_utils import graph_distance\n",
    "from settings.custom_settings import CustomSettings\n",
    "from data_generation.generate_trajectory import Trajectory\n",
    "from data_generation.spatial_firing import gaussian\n",
    "from mpl_toolkits.mplot3d import axes3d\n",
    "from training.train_ae import preprocessing\n",
    "import pandas as pd\n",
    "from matplotlib.path import Path\n",
    "import matplotlib.patches as patches\n",
    "os.environ['KMP_DUPLICATE_LIB_OK']='True'"
   ]
  },
  {
   "cell_type": "code",
   "execution_count": 102,
   "id": "a15129b1",
   "metadata": {},
   "outputs": [],
   "source": [
    "LATENT_SPACE_DIM = 3 \n",
    "\n",
    "MODEL_PATH = \"./saved_models/vae_eucl_exp17_b10_l4\"\n",
    "EXP_NAME = \"experiment17\"  "
   ]
  },
  {
   "cell_type": "code",
   "execution_count": 103,
   "id": "f068671f",
   "metadata": {},
   "outputs": [],
   "source": [
    "#Load data and model\n",
    "#TODO use better data structure\n",
    "\n",
    "#GRAPH\n",
    "with open(MODEL_PATH + '/test_data', 'rb') as file:\n",
    "    X_test = pickle.load(file)\n",
    "with open(MODEL_PATH + '/train_data', 'rb') as file:\n",
    "    X_train = pickle.load(file)\n",
    "with open(MODEL_PATH + '/nonoise_test_data', 'rb') as file:\n",
    "    X_n_test = pickle.load(file)\n",
    "with open(MODEL_PATH + '/nonoise_train_data', 'rb') as file:\n",
    "    X_n_train = pickle.load(file)\n",
    "with open(MODEL_PATH + \"/test_data_traj\", 'rb') as file:\n",
    "    traj_test = pickle.load(file)\n",
    "with open(MODEL_PATH + \"/train_data_traj\", 'rb') as file:\n",
    "    traj_train = pickle.load(file)\n",
    "with open(MODEL_PATH + \"/test_maze_config\", 'rb') as file:\n",
    "    test_maze_config = pickle.load(file)\n",
    "with open(MODEL_PATH + \"/train_maze_config\", 'rb') as file:\n",
    "    train_maze_config = pickle.load(file)\n",
    "with open(MODEL_PATH + \"/train_edge\", 'rb') as file:\n",
    "    train_edge = pickle.load(file)\n",
    "with open(MODEL_PATH + \"/test_edge\", 'rb') as file:\n",
    "    test_edge = pickle.load(file)\n",
    "\n",
    "\n",
    "path = \"./data_generation/generated_data/\" + EXP_NAME\n",
    "with open(path + \"/maze.pkl\", 'rb') as file:\n",
    "    maze = pickle.load(file) #Maze is common to both\n",
    "with open(path + \"/trajectory.pkl\", 'rb') as file:\n",
    "    traj = pickle.load(file)\n",
    "with open(path + \"/placeCells.pkl\", 'rb') as file:\n",
    "    placeCells = pickle.load(file)\n",
    "\n"
   ]
  },
  {
   "cell_type": "code",
   "execution_count": 104,
   "id": "1427675f",
   "metadata": {},
   "outputs": [
    {
     "data": {
      "text/plain": [
       "VAE(\n",
       "  (encoder_layers): Sequential(\n",
       "    (0): Linear(in_features=100, out_features=64, bias=True)\n",
       "    (1): LeakyReLU(negative_slope=0.01)\n",
       "    (2): Linear(in_features=64, out_features=32, bias=True)\n",
       "    (3): LeakyReLU(negative_slope=0.01)\n",
       "    (4): Linear(in_features=32, out_features=16, bias=True)\n",
       "    (5): LeakyReLU(negative_slope=0.01)\n",
       "    (6): Linear(in_features=16, out_features=8, bias=True)\n",
       "    (7): LeakyReLU(negative_slope=0.01)\n",
       "  )\n",
       "  (linear1): Linear(in_features=8, out_features=3, bias=True)\n",
       "  (linear2): Linear(in_features=8, out_features=3, bias=True)\n",
       "  (decoder_layers): Sequential(\n",
       "    (0): Linear(in_features=3, out_features=8, bias=True)\n",
       "    (1): LeakyReLU(negative_slope=0.01)\n",
       "    (2): Linear(in_features=8, out_features=16, bias=True)\n",
       "    (3): LeakyReLU(negative_slope=0.01)\n",
       "    (4): Linear(in_features=16, out_features=32, bias=True)\n",
       "    (5): LeakyReLU(negative_slope=0.01)\n",
       "    (6): Linear(in_features=32, out_features=64, bias=True)\n",
       "    (7): LeakyReLU(negative_slope=0.01)\n",
       "    (8): Linear(in_features=64, out_features=100, bias=True)\n",
       "    (9): Sigmoid()\n",
       "  )\n",
       ")"
      ]
     },
     "execution_count": 104,
     "metadata": {},
     "output_type": "execute_result"
    }
   ],
   "source": [
    "#load model\n",
    "with open(MODEL_PATH + \"/model\", 'rb') as file:\n",
    "    model = pickle.load(file)\n",
    "with open(MODEL_PATH + \"/prep\", 'rb') as file:\n",
    "    prep = pickle.load(file)\n",
    "\n",
    "model.eval()"
   ]
  },
  {
   "cell_type": "code",
   "execution_count": 105,
   "id": "dfb30ba7",
   "metadata": {},
   "outputs": [],
   "source": [
    "mu, logvar = model.encoder(X_train)\n",
    "#mu = mu.detach().numpy()"
   ]
  },
  {
   "cell_type": "code",
   "execution_count": 110,
   "id": "7fd47374",
   "metadata": {},
   "outputs": [],
   "source": [
    "p= torch.Tensor([[0, 0, 0], [0, 0.1, 0], [0, 0, 0.1], [0.1, 0, 0], [0, 0.1, -0.1]]) #choose a poing in latent space\n",
    "S_gen = model.decoder(p).detach().numpy()\n"
   ]
  },
  {
   "cell_type": "code",
   "execution_count": 111,
   "id": "f34528e9",
   "metadata": {},
   "outputs": [],
   "source": [
    "idx = np.argsort(S_gen)[:, -6:]"
   ]
  },
  {
   "cell_type": "code",
   "execution_count": 112,
   "id": "39063627",
   "metadata": {},
   "outputs": [],
   "source": [
    "c = placeCells.fieldCenters[:, idx, 0]"
   ]
  },
  {
   "cell_type": "code",
   "execution_count": 113,
   "id": "aaa2a46e",
   "metadata": {},
   "outputs": [
    {
     "data": {
      "text/plain": [
       "(2, 5, 6)"
      ]
     },
     "execution_count": 113,
     "metadata": {},
     "output_type": "execute_result"
    }
   ],
   "source": [
    "c.shape"
   ]
  },
  {
   "cell_type": "code",
   "execution_count": 114,
   "id": "0170c3f2",
   "metadata": {},
   "outputs": [
    {
     "data": {
      "image/png": "[encoded data removed]",
      "text/plain": [
       "<Figure size 640x480 with 1 Axes>"
      ]
     },
     "metadata": {},
     "output_type": "display_data"
    }
   ],
   "source": [
    "plt.figure()\n",
    "\n",
    "for i in range(c.shape[1]):\n",
    "    plt.xlim([0,7])\n",
    "    plt.ylim([0,7])\n",
    "    plt.scatter(c[0, i, :], c[1, i, :])\n",
    "plt.show()"
   ]
  },
  {
   "cell_type": "code",
   "execution_count": 115,
   "id": "79b71d81",
   "metadata": {},
   "outputs": [],
   "source": [
    "c_tot = placeCells.fieldCenters[:, :, 0] "
   ]
  },
  {
   "cell_type": "code",
   "execution_count": 116,
   "id": "3cd032bb",
   "metadata": {},
   "outputs": [
    {
     "data": {
      "image/png": "[encoded data removed]",
      "text/plain": [
       "<Figure size 640x480 with 1 Axes>"
      ]
     },
     "metadata": {},
     "output_type": "display_data"
    }
   ],
   "source": [
    "plt.figure()\n",
    "\n",
    "plt.xlim([0,7])\n",
    "plt.ylim([0,7])\n",
    "plt.scatter(c_tot[0, :], c_tot[1, :])\n",
    "plt.show()"
   ]
  },
  {
   "cell_type": "code",
   "execution_count": null,
   "id": "892f6df5",
   "metadata": {},
   "outputs": [],
   "source": []
  },
  {
   "cell_type": "code",
   "execution_count": null,
   "id": "90d7b295",
   "metadata": {},
   "outputs": [],
   "source": []
  },
  {
   "cell_type": "code",
   "execution_count": null,
   "id": "82d57067",
   "metadata": {},
   "outputs": [],
   "source": []
  },
  {
   "cell_type": "code",
   "execution_count": 101,
   "id": "71779a7d",
   "metadata": {},
   "outputs": [],
   "source": [
    "def inv_gaussian(fx, std, p_max):\n",
    "    d = np.sqrt(-2*np.log(fx/p_max))*std\n",
    "    return d"
   ]
  },
  {
   "cell_type": "code",
   "execution_count": 102,
   "id": "dea62f39",
   "metadata": {},
   "outputs": [],
   "source": [
    "d = inv_gaussian(S_gen, placeCells.std, placeCells.nu_max)"
   ]
  },
  {
   "cell_type": "code",
   "execution_count": 125,
   "id": "c068026d",
   "metadata": {},
   "outputs": [
    {
     "data": {
      "text/plain": [
       "array([[6.83, 6.83, 6.85],\n",
       "       [6.74, 6.77, 6.96]])"
      ]
     },
     "execution_count": 125,
     "metadata": {},
     "output_type": "execute_result"
    }
   ],
   "source": [
    "np.sort(placeCells.fieldCenters, axis =1)[:, -3:, 0]"
   ]
  },
  {
   "cell_type": "code",
   "execution_count": 119,
   "id": "4ae73ee5",
   "metadata": {},
   "outputs": [
    {
     "name": "stdout",
     "output_type": "stream",
     "text": [
      "Equation 1: Eq((0.03 - y)**2 + (0.05 - x)**2, 0.653469082143378)\n",
      "Equation 2: Eq((0.11 - y)**2 + (0.19 - x)**2, 3.3742392584827)\n",
      "Equation 3: Eq((0.33 - y)**2 + (0.47 - x)**2, 2.17919138315716)\n",
      "Solution: [(-7.20515047475971 - 4.12635504550039*I, -4.11580027129126 + 7.22112132962568*I), (-7.20515047475971 + 4.12635504550039*I, -4.11580027129126 - 7.22112132962568*I)]\n"
     ]
    }
   ],
   "source": [
    "from sympy import symbols, Eq, solve\n",
    "c = np.sort(placeCells.fieldCenters, axis =1)[:, -4:, 0]\n",
    "\n",
    "\n",
    "x, y = symbols(\"x y\")\n",
    "equation_1 = Eq((c[0, 0] - x)**2 + (c[1, 0]- y)**2, d[0, 0]**2)\n",
    "equation_2 = Eq((c[0, 1] - x)**2 + (c[1, 1]- y)**2, d[0, 1]**2)\n",
    "equation_3 = Eq((c[0, 2] - x)**2 + (c[1, 2]- y)**2, d[0, 2]**2)\n",
    "print(\"Equation 1:\", equation_1)\n",
    "print(\"Equation 2:\", equation_2)\n",
    "print(\"Equation 3:\", equation_3)\n",
    "solution = solve((equation_1, equation_2), (x, y))\n",
    "print(\"Solution:\", solution)\n"
   ]
  },
  {
   "cell_type": "code",
   "execution_count": 83,
   "id": "4bb68d20",
   "metadata": {},
   "outputs": [
    {
     "data": {
      "text/plain": [
       "array([[2.63716185, 5.63216744],\n",
       "       [3.91      , 3.5       ],\n",
       "       [4.54465079, 4.54465079],\n",
       "       ...,\n",
       "       [2.09806133, 4.90193867],\n",
       "       [6.21008622, 5.21008622],\n",
       "       [2.35969083, 2.35969083]])"
      ]
     },
     "execution_count": 83,
     "metadata": {},
     "output_type": "execute_result"
    }
   ],
   "source": [
    "traj_train"
   ]
  }
 ],
 "metadata": {
  "kernelspec": {
   "display_name": "NC42",
   "language": "python",
   "name": "nc42"
  },
  "language_info": {
   "codemirror_mode": {
    "name": "ipython",
    "version": 3
   },
   "file_extension": ".py",
   "mimetype": "text/x-python",
   "name": "python",
   "nbconvert_exporter": "python",
   "pygments_lexer": "ipython3",
   "version": "3.10.4"
  }
 },
 "nbformat": 4,
 "nbformat_minor": 5
}
